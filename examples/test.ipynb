{
 "cells": [
  {
   "cell_type": "code",
   "execution_count": 8,
   "metadata": {},
   "outputs": [
    {
     "name": "stderr",
     "output_type": "stream",
     "text": [
      "DEBUG:root:pila\n",
      "INFO:cenas.outracena:cenas\n"
     ]
    },
    {
     "name": "stdout",
     "output_type": "stream",
     "text": [
      "['concurrent.futures', 'concurrent', 'asyncio', 'tornado.access', 'tornado', 'tornado.application', 'tornado.general', 'prompt_toolkit.buffer', 'prompt_toolkit', 'parso.python.diff', 'parso.python', 'parso', 'parso.cache', 'IPKernelApp', 'cenas.outracena', 'cenas', 'outracena', '.outracena']\n"
     ]
    }
   ],
   "source": [
    "import logging\n",
    "logger = logging.getLogger()\n",
    "logger.setLevel(logging.DEBUG)\n",
    "logging.debug('pila')\n",
    "\n",
    "logger1 = logging.getLogger('cenas.outracena')\n",
    "logger1.setLevel(logging.INFO)\n",
    "\n",
    "logger2 = [name for name in logging.root.manager.loggerDict]\n",
    "print(logger2)\n",
    "\n",
    "\n",
    "logger1.info('cenas')"
   ]
  }
 ],
 "metadata": {
  "interpreter": {
   "hash": "9f6d62da5995bdb3a4074dcac62db2422580c2a3e524f2c001410ca3194c85cb"
  },
  "kernelspec": {
   "display_name": "Python 3.9.6 ('peak')",
   "language": "python",
   "name": "python3"
  },
  "language_info": {
   "codemirror_mode": {
    "name": "ipython",
    "version": 3
   },
   "file_extension": ".py",
   "mimetype": "text/x-python",
   "name": "python",
   "nbconvert_exporter": "python",
   "pygments_lexer": "ipython3",
   "version": "3.9.6"
  },
  "orig_nbformat": 4
 },
 "nbformat": 4,
 "nbformat_minor": 2
}
