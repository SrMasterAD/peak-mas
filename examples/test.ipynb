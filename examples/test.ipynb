{
 "cells": [
  {
   "cell_type": "code",
   "execution_count": null,
   "metadata": {},
   "outputs": [],
   "source": [
    "import logging\n",
    "logger = logging.getLogger()\n",
    "logger.setLevel(logging.DEBUG)\n",
    "logging.debug('pila')\n",
    "\n",
    "logger1 = logging.getLogger('cenas.outracena')\n",
    "logger1.setLevel(logging.INFO)\n",
    "\n",
    "logger2 = [name for name in logging.root.manager.loggerDict]\n",
    "print(logger2)\n",
    "\n",
    "\n",
    "logger1.info('cenas')"
   ]
  },
  {
   "cell_type": "code",
   "execution_count": null,
   "metadata": {},
   "outputs": [],
   "source": [
    "from aioxmpp import JID\n",
    "\n",
    "a = JID('test', 'test', None)\n",
    "print(a)\n",
    "a = a.replace(localpart='cena')\n",
    "print(a)"
   ]
  },
  {
   "cell_type": "code",
   "execution_count": null,
   "metadata": {},
   "outputs": [],
   "source": [
    "from multiprocessing import Process, Lock\n",
    "import time\n",
    "\n",
    "def cenas(p, l):\n",
    "    l.acquire()\n",
    "    print('pila', p)\n",
    "    time.sleep(5)\n",
    "    l.release()\n",
    "\n",
    "llll = Lock()\n",
    "ps = []\n",
    "for i in range(30):\n",
    "    p = Process(target=cenas, args=(i, llll ))\n",
    "    p.start()\n",
    "ps.append(p)\n",
    "\n",
    "for q in ps:\n",
    "    q.join()\n"
   ]
  },
  {
   "cell_type": "code",
   "execution_count": 1,
   "metadata": {},
   "outputs": [
    {
     "name": "stdout",
     "output_type": "stream",
     "text": [
      "cona\n",
      "pila\n",
      "cona\n",
      "pila\n",
      "cona\n",
      "pila\n"
     ]
    }
   ],
   "source": [
    "from peak.mas import Agent\n",
    "from spade import quit_spade\n",
    "import time\n",
    "from aioxmpp import JID\n",
    "\n",
    "class Dummy(Agent):\n",
    "\n",
    "    async def setup(self):\n",
    "        await self.join_group('mas@conference.mas.gecad.isep.ipp.pt')\n",
    "\n",
    "for i in range(3):\n",
    "    d = Dummy(JID.fromstr('pila' + str(i) + '@mas.gecad.isep.ipp.pt'))\n",
    "    print('cona')\n",
    "    d.start().result()\n",
    "    print('pila')\n",
    "\n",
    "time.sleep(10)\n",
    "quit_spade()"
   ]
  }
 ],
 "metadata": {
  "interpreter": {
   "hash": "9f6d62da5995bdb3a4074dcac62db2422580c2a3e524f2c001410ca3194c85cb"
  },
  "kernelspec": {
   "display_name": "Python 3.9.6 ('peak')",
   "language": "python",
   "name": "python3"
  },
  "language_info": {
   "codemirror_mode": {
    "name": "ipython",
    "version": 3
   },
   "file_extension": ".py",
   "mimetype": "text/x-python",
   "name": "python",
   "nbconvert_exporter": "python",
   "pygments_lexer": "ipython3",
   "version": "3.9.6"
  },
  "orig_nbformat": 4
 },
 "nbformat": 4,
 "nbformat_minor": 2
}
